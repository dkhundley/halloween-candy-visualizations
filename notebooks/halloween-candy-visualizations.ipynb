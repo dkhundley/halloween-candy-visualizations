{
 "cells": [
  {
   "cell_type": "markdown",
   "id": "80cfc265",
   "metadata": {},
   "source": [
    "# Halloween Candy Data Visualizations!\n",
    "\n",
    "All data science endeavors begin with an analysis of supporting data to understand trends, correlations, and more in the effort to glean insights not particularly obvious at a surface level. Additionally, we as humans find it easier to grasp what the data has to say in the form of visualizations, so it is very common for data scientists and other data practitioners to create a variety of data visualizations to better \"tell the story\" of what the data represents.\n",
    "\n",
    "In this notebook, I'll teach you how to perform a variety of data visualizations using a Halloween candy dataset. This dataset was curated by the prominent statistics group FiveThirtyEight and housed on Kaggle at this link: [The Ultimate Halloween Candy Power Ranking](https://www.kaggle.com/datasets/fivethirtyeight/the-ultimate-halloween-candy-power-ranking). For specifics on the features associated with that dataset, I would advise you check out that link as they do a great job explaining the details of each feature."
   ]
  },
  {
   "cell_type": "markdown",
   "id": "ff6a0c50",
   "metadata": {},
   "source": [
    "## Project Setup\n",
    "In this brief section, we'll import the proper libraries and also load the Halloween candy dataset from a CSV file as a **Pandas DataFrame**. The primary Python libraries we will be using for the data visualizations include **Matplotlib** and **Seaborn**. Notice in the next cell that there is a command beginning with a percentage (`%`) sign. Jupyter offers these special bits of exclusive functionality for notebooks called **magic commands**. This particular magic command allows us to view our visualizations appropriately!"
   ]
  },
  {
   "cell_type": "code",
   "execution_count": 6,
   "id": "9d48e90f",
   "metadata": {},
   "outputs": [],
   "source": [
    "# Importing the required third party Python libraries\n",
    "import pandas as pd\n",
    "import seaborn as sb\n",
    "import matplotlib.pyplot as plt\n",
    "\n",
    "# Enabling the Jupyter \"magic command\" to get matplotlib visualizations working correctly\n",
    "%matplotlib inline"
   ]
  },
  {
   "cell_type": "code",
   "execution_count": 4,
   "id": "f5c371ab",
   "metadata": {},
   "outputs": [],
   "source": [
    "# Loading the Halloween candy dataset as a Pandas DataFrame\n",
    "df_candy = pd.read_csv('../data/candy-data.csv')"
   ]
  },
  {
   "cell_type": "code",
   "execution_count": 7,
   "id": "043b8b2c",
   "metadata": {},
   "outputs": [
    {
     "data": {
      "text/html": [
       "<div>\n",
       "<style scoped>\n",
       "    .dataframe tbody tr th:only-of-type {\n",
       "        vertical-align: middle;\n",
       "    }\n",
       "\n",
       "    .dataframe tbody tr th {\n",
       "        vertical-align: top;\n",
       "    }\n",
       "\n",
       "    .dataframe thead th {\n",
       "        text-align: right;\n",
       "    }\n",
       "</style>\n",
       "<table border=\"1\" class=\"dataframe\">\n",
       "  <thead>\n",
       "    <tr style=\"text-align: right;\">\n",
       "      <th></th>\n",
       "      <th>competitorname</th>\n",
       "      <th>chocolate</th>\n",
       "      <th>fruity</th>\n",
       "      <th>caramel</th>\n",
       "      <th>peanutyalmondy</th>\n",
       "      <th>nougat</th>\n",
       "      <th>crispedricewafer</th>\n",
       "      <th>hard</th>\n",
       "      <th>bar</th>\n",
       "      <th>pluribus</th>\n",
       "      <th>sugarpercent</th>\n",
       "      <th>pricepercent</th>\n",
       "      <th>winpercent</th>\n",
       "    </tr>\n",
       "  </thead>\n",
       "  <tbody>\n",
       "    <tr>\n",
       "      <th>0</th>\n",
       "      <td>100 Grand</td>\n",
       "      <td>1</td>\n",
       "      <td>0</td>\n",
       "      <td>1</td>\n",
       "      <td>0</td>\n",
       "      <td>0</td>\n",
       "      <td>1</td>\n",
       "      <td>0</td>\n",
       "      <td>1</td>\n",
       "      <td>0</td>\n",
       "      <td>0.732</td>\n",
       "      <td>0.860</td>\n",
       "      <td>66.971725</td>\n",
       "    </tr>\n",
       "    <tr>\n",
       "      <th>1</th>\n",
       "      <td>3 Musketeers</td>\n",
       "      <td>1</td>\n",
       "      <td>0</td>\n",
       "      <td>0</td>\n",
       "      <td>0</td>\n",
       "      <td>1</td>\n",
       "      <td>0</td>\n",
       "      <td>0</td>\n",
       "      <td>1</td>\n",
       "      <td>0</td>\n",
       "      <td>0.604</td>\n",
       "      <td>0.511</td>\n",
       "      <td>67.602936</td>\n",
       "    </tr>\n",
       "    <tr>\n",
       "      <th>2</th>\n",
       "      <td>One dime</td>\n",
       "      <td>0</td>\n",
       "      <td>0</td>\n",
       "      <td>0</td>\n",
       "      <td>0</td>\n",
       "      <td>0</td>\n",
       "      <td>0</td>\n",
       "      <td>0</td>\n",
       "      <td>0</td>\n",
       "      <td>0</td>\n",
       "      <td>0.011</td>\n",
       "      <td>0.116</td>\n",
       "      <td>32.261086</td>\n",
       "    </tr>\n",
       "    <tr>\n",
       "      <th>3</th>\n",
       "      <td>One quarter</td>\n",
       "      <td>0</td>\n",
       "      <td>0</td>\n",
       "      <td>0</td>\n",
       "      <td>0</td>\n",
       "      <td>0</td>\n",
       "      <td>0</td>\n",
       "      <td>0</td>\n",
       "      <td>0</td>\n",
       "      <td>0</td>\n",
       "      <td>0.011</td>\n",
       "      <td>0.511</td>\n",
       "      <td>46.116505</td>\n",
       "    </tr>\n",
       "    <tr>\n",
       "      <th>4</th>\n",
       "      <td>Air Heads</td>\n",
       "      <td>0</td>\n",
       "      <td>1</td>\n",
       "      <td>0</td>\n",
       "      <td>0</td>\n",
       "      <td>0</td>\n",
       "      <td>0</td>\n",
       "      <td>0</td>\n",
       "      <td>0</td>\n",
       "      <td>0</td>\n",
       "      <td>0.906</td>\n",
       "      <td>0.511</td>\n",
       "      <td>52.341465</td>\n",
       "    </tr>\n",
       "  </tbody>\n",
       "</table>\n",
       "</div>"
      ],
      "text/plain": [
       "  competitorname  chocolate  fruity  caramel  peanutyalmondy  nougat  \\\n",
       "0      100 Grand          1       0        1               0       0   \n",
       "1   3 Musketeers          1       0        0               0       1   \n",
       "2       One dime          0       0        0               0       0   \n",
       "3    One quarter          0       0        0               0       0   \n",
       "4      Air Heads          0       1        0               0       0   \n",
       "\n",
       "   crispedricewafer  hard  bar  pluribus  sugarpercent  pricepercent  \\\n",
       "0                 1     0    1         0         0.732         0.860   \n",
       "1                 0     0    1         0         0.604         0.511   \n",
       "2                 0     0    0         0         0.011         0.116   \n",
       "3                 0     0    0         0         0.011         0.511   \n",
       "4                 0     0    0         0         0.906         0.511   \n",
       "\n",
       "   winpercent  \n",
       "0   66.971725  \n",
       "1   67.602936  \n",
       "2   32.261086  \n",
       "3   46.116505  \n",
       "4   52.341465  "
      ]
     },
     "execution_count": 7,
     "metadata": {},
     "output_type": "execute_result"
    }
   ],
   "source": [
    "# Viewing the first view rows of the Halloween candy DataFrame\n",
    "df_candy.head()"
   ]
  },
  {
   "attachments": {},
   "cell_type": "markdown",
   "id": "98f7a488",
   "metadata": {},
   "source": [
    "## Halloween Colors\n",
    "Because this is a notebook all about Halloween candy visualizations, I thought it would be fun to have all the visualizations include Halloween colors. I personally like to do some light graphic design on the side, and graphic designers are very inclined to use **hex values** when selecting colors. Hex values allow a graphic designer to hone in on a very specific set of colors, and there are many websites across the internet that have assembled pre-packaged **color palettes** with colors that work well together to promote a specific theme. Through [this website here](https://www.color-hex.com/color-palette/3399), we will be using thie Halloween color palette shown below. In the next cell, I will create a Python dictionary of these respective hex values that we can use for our respective visualizations.\n",
    "\n",
    "\n",
    "<img src=\"../images/halloween-colors.png\" width=\"500\" height=\"500\" align=\"center\"/>"
   ]
  },
  {
   "cell_type": "code",
   "execution_count": 23,
   "id": "ca46de4c",
   "metadata": {},
   "outputs": [],
   "source": [
    "# Setting a dictionary with Halloween color hex values\n",
    "halloween_colors = {\n",
    "    'orange': '#FF9A00',\n",
    "    'purple': '#C900FF',\n",
    "    'green': '#09FF00',\n",
    "    'off-white': '#FBFAF4',\n",
    "    'black': '#000000'\n",
    "}\n",
    "\n",
    "# Setting the Seaborn color palette with the colors defined above\n",
    "sb.set_palette(sb.color_palette(list(halloween_colors.values())))"
   ]
  },
  {
   "cell_type": "markdown",
   "id": "82105e10",
   "metadata": {},
   "source": [
    "## Correlation Visualizations\n",
    "\n",
    "When starting off work in a new realm of data, one of the first things a data scientist looks for is **correlations between various data features**. In this section, we're going to cover a number of these correlation visualizations and how we can build an intuition for how these sorts of visualizations better tell a story about the data!"
   ]
  },
  {
   "cell_type": "markdown",
   "id": "ebfa3a5c",
   "metadata": {},
   "source": [
    "### Regression Plot\n",
    "A **regression plot** is a kind of visualization that generally compares two numerical variables between an x- and y-axis with each data point represented by a dot. We can also enhance a regression plot with an additional **hue** variable that visually dictates how this third variable affects the two initial variables we are comparing. In our example below, we are specifically going to use Seaborn's `lmplot` functionality, which essentially combines a standard regression plot with that ability to add that hue for a deeper analysis on the data. (By the way, I have no idea why it's called `lmplot`. 😅)\n",
    "\n",
    "**Example:** Our `sugarpercent` variable tells us the percentile of sugar a particular candy has compared to the other candies, while the `pricepercent` variable tells us the percentile of price that a candy costs compared to the other candies. We also have a third variable, `chocolate`, tells us whether or not the candy is chocolate. A scatter plot can help us answer the question, *Do chocolate candies have a stronger and/or higher correlation of sugar-to-price than their non-chocalate bretherin?*"
   ]
  },
  {
   "cell_type": "code",
   "execution_count": 34,
   "id": "cd7c38e5",
   "metadata": {},
   "outputs": [
    {
     "data": {
      "image/png": "[encoded data removed]",
      "text/plain": [
       "<Figure size 578.611x500 with 1 Axes>"
      ]
     },
     "metadata": {},
     "output_type": "display_data"
    }
   ],
   "source": [
    "# Creating a scatter plot with Seaborn comparing the price- and sugar-percentiles between chocolate and non-chocolate candies\n",
    "regressionplot = sb.lmplot(\n",
    "    data = df_candy, \n",
    "    x = 'sugarpercent', \n",
    "    y = 'pricepercent', \n",
    "    hue = 'chocolate',\n",
    "    markers = ['x', 'o']\n",
    ");\n",
    "\n",
    "# Adjusting the axes, title, and more of the scatterplot visualization\n",
    "# scatterplot.set_title('Comparing Price- and Sugar-Percentiles of Chocolate vs. Non-Chocolate Candies');"
   ]
  },
  {
   "cell_type": "code",
   "execution_count": null,
   "id": "fa506c51",
   "metadata": {},
   "outputs": [],
   "source": []
  }
 ],
 "metadata": {
  "kernelspec": {
   "display_name": "Python 3 (ipykernel)",
   "language": "python",
   "name": "python3"
  },
  "language_info": {
   "codemirror_mode": {
    "name": "ipython",
    "version": 3
   },
   "file_extension": ".py",
   "mimetype": "text/x-python",
   "name": "python",
   "nbconvert_exporter": "python",
   "pygments_lexer": "ipython3",
   "version": "3.10.7"
  }
 },
 "nbformat": 4,
 "nbformat_minor": 5
}
